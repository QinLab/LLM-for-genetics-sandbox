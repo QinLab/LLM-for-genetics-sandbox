{
 "cells": [
  {
   "cell_type": "code",
   "execution_count": 1,
   "metadata": {},
   "outputs": [
    {
     "name": "stderr",
     "output_type": "stream",
     "text": [
      "/home/qxy699/hugging_face/lib/python3.10/site-packages/tqdm/auto.py:21: TqdmWarning: IProgress not found. Please update jupyter and ipywidgets. See https://ipywidgets.readthedocs.io/en/stable/user_install.html\n",
      "  from .autonotebook import tqdm as notebook_tqdm\n"
     ]
    }
   ],
   "source": [
    "from datasets import load_dataset\n",
    "data_files = {\"train\": \"/home/qxy699/Data/WHO_representative_random/who_dataset_training.csv\", \n",
    "              \"test\": \"/home/qxy699/Data/WHO_representative_random/who_dataset_test.csv\"}\n",
    "# \\t is the tab character in Python\n",
    "sars_dataset = load_dataset(\"csv\", data_files=data_files)"
   ]
  },
  {
   "cell_type": "code",
   "execution_count": 2,
   "metadata": {},
   "outputs": [],
   "source": [
    "def get_training_corpus():\n",
    "    dataset = sars_dataset[\"train\"]\n",
    "    for start_idx in range(0, len(dataset), 1000):\n",
    "        samples = dataset[start_idx : start_idx + 1000]\n",
    "        yield samples[\"sequence\"]"
   ]
  },
  {
   "cell_type": "code",
   "execution_count": 3,
   "metadata": {},
   "outputs": [],
   "source": [
    "training_corpus = get_training_corpus()"
   ]
  },
  {
   "cell_type": "code",
   "execution_count": 5,
   "metadata": {},
   "outputs": [],
   "source": [
    "from transformers import AutoTokenizer\n",
    "\n",
    "old_tokenizer = AutoTokenizer.from_pretrained(\"gpt2\")"
   ]
  },
  {
   "cell_type": "code",
   "execution_count": 6,
   "metadata": {},
   "outputs": [
    {
     "name": "stdout",
     "output_type": "stream",
     "text": [
      "\n",
      "\n",
      "\n"
     ]
    }
   ],
   "source": [
    "tokenizer = old_tokenizer.train_new_from_iterator(training_corpus, 52000)"
   ]
  },
  {
   "cell_type": "code",
   "execution_count": 23,
   "metadata": {},
   "outputs": [
    {
     "data": {
      "text/plain": [
       "['at',\n",
       " 'c',\n",
       " 'ga',\n",
       " 'att',\n",
       " 'cc',\n",
       " 'gg',\n",
       " 'at',\n",
       " 'g',\n",
       " 'cca',\n",
       " 'at',\n",
       " 'c',\n",
       " 'gat',\n",
       " 'c',\n",
       " 'gg',\n",
       " 't',\n",
       " 'ac',\n",
       " 'ga',\n",
       " 'at',\n",
       " 'gt',\n",
       " 'cat',\n",
       " 'gat',\n",
       " 'g',\n",
       " 'cat']"
      ]
     },
     "execution_count": 23,
     "metadata": {},
     "output_type": "execute_result"
    }
   ],
   "source": [
    "example = '''atcgaattccggatgccaatcgatcggtacgaatgtcatgatgcat'''\n",
    "\n",
    "old_tokens = old_tokenizer.tokenize(example)\n",
    "old_tokens"
   ]
  },
  {
   "cell_type": "code",
   "execution_count": 24,
   "metadata": {},
   "outputs": [
    {
     "data": {
      "text/plain": [
       "['atcg',\n",
       " 'aattcc',\n",
       " 'gg',\n",
       " 'atgcc',\n",
       " 'aatcg',\n",
       " 'atcgg',\n",
       " 'tacg',\n",
       " 'aatgtc',\n",
       " 'atg',\n",
       " 'atgc',\n",
       " 'at']"
      ]
     },
     "execution_count": 24,
     "metadata": {},
     "output_type": "execute_result"
    }
   ],
   "source": [
    "example = '''atcgaattccggatgccaatcgatcggtacgaatgtcatgatgcat'''\n",
    "\n",
    "tokens = tokenizer.tokenize(example)\n",
    "tokens"
   ]
  },
  {
   "cell_type": "code",
   "execution_count": 18,
   "metadata": {},
   "outputs": [
    {
     "name": "stdout",
     "output_type": "stream",
     "text": [
      "10\n",
      "22\n"
     ]
    }
   ],
   "source": [
    "print(len(tokens))\n",
    "print(len(old_tokenizer.tokenize(example)))"
   ]
  },
  {
   "cell_type": "code",
   "execution_count": 25,
   "metadata": {},
   "outputs": [
    {
     "data": {
      "text/plain": [
       "('code-SARS-tokenizer/tokenizer_config.json',\n",
       " 'code-SARS-tokenizer/special_tokens_map.json',\n",
       " 'code-SARS-tokenizer/vocab.json',\n",
       " 'code-SARS-tokenizer/merges.txt',\n",
       " 'code-SARS-tokenizer/added_tokens.json',\n",
       " 'code-SARS-tokenizer/tokenizer.json')"
      ]
     },
     "execution_count": 25,
     "metadata": {},
     "output_type": "execute_result"
    }
   ],
   "source": [
    "tokenizer.save_pretrained(\"code-SARS-tokenizer\")"
   ]
  },
  {
   "cell_type": "code",
   "execution_count": 26,
   "metadata": {},
   "outputs": [],
   "source": [
    "#load again\n",
    "tokenizer = AutoTokenizer.from_pretrained(\"code-SARS-tokenizer\")"
   ]
  },
  {
   "cell_type": "code",
   "execution_count": null,
   "metadata": {},
   "outputs": [],
   "source": []
  }
 ],
 "metadata": {
  "kernelspec": {
   "display_name": "hugging_face",
   "language": "python",
   "name": "python3"
  },
  "language_info": {
   "codemirror_mode": {
    "name": "ipython",
    "version": 3
   },
   "file_extension": ".py",
   "mimetype": "text/x-python",
   "name": "python",
   "nbconvert_exporter": "python",
   "pygments_lexer": "ipython3",
   "version": "3.10.12"
  }
 },
 "nbformat": 4,
 "nbformat_minor": 2
}
