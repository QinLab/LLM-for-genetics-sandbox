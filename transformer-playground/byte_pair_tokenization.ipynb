{
 "cells": [
  {
   "cell_type": "markdown",
   "metadata": {},
   "source": [
    "Byte-Pair Encoding (BPE) was initially developed as an algorithm to compress texts and it is used in GPT, GPT-2, RoBERTa, BART, and DeBERTa\n",
    "\n",
    "BPE training starts by **computing the unique set of words** used in the corpus (after the normalization and pre-tokenization steps are completed), then building the vocabulary by taking all the symbols used to write those words\n"
   ]
  },
  {
   "cell_type": "code",
   "execution_count": 2,
   "metadata": {},
   "outputs": [],
   "source": [
    "corpus = [\n",
    "    \"This is the Hugging Face Course.\",\n",
    "    \"This chapter is about tokenization.\",\n",
    "    \"This section shows several tokenizer algorithms.\",\n",
    "    \"Hopefully, you will be able to understand how they are trained and generate tokens.\",\n",
    "]"
   ]
  },
  {
   "cell_type": "markdown",
   "metadata": {},
   "source": [
    "1. use the gpt2 tokenizer for the pre-tokenization"
   ]
  },
  {
   "cell_type": "code",
   "execution_count": 3,
   "metadata": {},
   "outputs": [
    {
     "name": "stderr",
     "output_type": "stream",
     "text": [
      "/home/qxy699/hugging_face/lib/python3.10/site-packages/tqdm/auto.py:21: TqdmWarning: IProgress not found. Please update jupyter and ipywidgets. See https://ipywidgets.readthedocs.io/en/stable/user_install.html\n",
      "  from .autonotebook import tqdm as notebook_tqdm\n"
     ]
    }
   ],
   "source": [
    "from transformers import AutoTokenizer\n",
    "\n",
    "tokenizer = AutoTokenizer.from_pretrained(\"gpt2\") # we’re using a GPT2 tokenizer, as pre-tokenization \n",
    "                                                  #involves splitting on whitespace and punctuation"
   ]
  },
  {
   "cell_type": "markdown",
   "metadata": {},
   "source": [
    "2.  compute the frequencies of **each word** in the corpus as we do the pre-tokenization"
   ]
  },
  {
   "cell_type": "code",
   "execution_count": 13,
   "metadata": {},
   "outputs": [
    {
     "data": {
      "text/plain": [
       "{'This': 3,\n",
       " 'Ġis': 2,\n",
       " 'Ġthe': 1,\n",
       " 'ĠHugging': 1,\n",
       " 'ĠFace': 1,\n",
       " 'ĠCourse': 1,\n",
       " '.': 4,\n",
       " 'Ġchapter': 1,\n",
       " 'Ġabout': 1,\n",
       " 'Ġtokenization': 1,\n",
       " 'Ġsection': 1,\n",
       " 'Ġshows': 1,\n",
       " 'Ġseveral': 1,\n",
       " 'Ġtokenizer': 1,\n",
       " 'Ġalgorithms': 1,\n",
       " 'Hopefully': 1,\n",
       " ',': 1,\n",
       " 'Ġyou': 1,\n",
       " 'Ġwill': 1,\n",
       " 'Ġbe': 1,\n",
       " 'Ġable': 1,\n",
       " 'Ġto': 1,\n",
       " 'Ġunderstand': 1,\n",
       " 'Ġhow': 1,\n",
       " 'Ġthey': 1,\n",
       " 'Ġare': 1,\n",
       " 'Ġtrained': 1,\n",
       " 'Ġand': 1,\n",
       " 'Ġgenerate': 1,\n",
       " 'Ġtokens': 1}"
      ]
     },
     "execution_count": 13,
     "metadata": {},
     "output_type": "execute_result"
    }
   ],
   "source": [
    "word_freqs = dict()\n",
    "\n",
    "for text in corpus:\n",
    "    words_with_offsets = tokenizer.backend_tokenizer.pre_tokenizer.pre_tokenize_str(text)\n",
    "    words = [word for word, offsets in words_with_offsets]\n",
    "    for word in words:\n",
    "        if word not in word_freqs.keys():\n",
    "            word_freqs[word] = 1\n",
    "        else:\n",
    "            word_freqs[word] += 1\n",
    "\n",
    "word_freqs\n"
   ]
  },
  {
   "cell_type": "markdown",
   "metadata": {},
   "source": [
    "3. compute the base vocabulary(those ones created in the tokenizer), formed by all the characters used in the corpus"
   ]
  },
  {
   "cell_type": "code",
   "execution_count": 19,
   "metadata": {},
   "outputs": [
    {
     "data": {
      "text/plain": [
       "[',',\n",
       " '.',\n",
       " 'C',\n",
       " 'F',\n",
       " 'H',\n",
       " 'T',\n",
       " 'a',\n",
       " 'b',\n",
       " 'c',\n",
       " 'd',\n",
       " 'e',\n",
       " 'f',\n",
       " 'g',\n",
       " 'h',\n",
       " 'i',\n",
       " 'k',\n",
       " 'l',\n",
       " 'm',\n",
       " 'n',\n",
       " 'o',\n",
       " 'p',\n",
       " 'r',\n",
       " 's',\n",
       " 't',\n",
       " 'u',\n",
       " 'v',\n",
       " 'w',\n",
       " 'y',\n",
       " 'z',\n",
       " 'Ġ']"
      ]
     },
     "execution_count": 19,
     "metadata": {},
     "output_type": "execute_result"
    }
   ],
   "source": [
    "alphabet = []\n",
    "\n",
    "for keys in word_freqs.keys():\n",
    "    char = [chrs for chrs in keys]\n",
    "    for chr in char:\n",
    "        if chr not in alphabet:\n",
    "            alphabet.append(chr)\n",
    "\n",
    "alphabet.sort()\n",
    "alphabet\n"
   ]
  },
  {
   "cell_type": "markdown",
   "metadata": {},
   "source": [
    "add the special tokens used by the model at the beginning of that vocabulary. In the case of GPT-2, the only special token is \"<|endoftext|>\""
   ]
  },
  {
   "cell_type": "code",
   "execution_count": 20,
   "metadata": {},
   "outputs": [
    {
     "data": {
      "text/plain": [
       "['<|endoftext|>',\n",
       " ',',\n",
       " '.',\n",
       " 'C',\n",
       " 'F',\n",
       " 'H',\n",
       " 'T',\n",
       " 'a',\n",
       " 'b',\n",
       " 'c',\n",
       " 'd',\n",
       " 'e',\n",
       " 'f',\n",
       " 'g',\n",
       " 'h',\n",
       " 'i',\n",
       " 'k',\n",
       " 'l',\n",
       " 'm',\n",
       " 'n',\n",
       " 'o',\n",
       " 'p',\n",
       " 'r',\n",
       " 's',\n",
       " 't',\n",
       " 'u',\n",
       " 'v',\n",
       " 'w',\n",
       " 'y',\n",
       " 'z',\n",
       " 'Ġ']"
      ]
     },
     "execution_count": 20,
     "metadata": {},
     "output_type": "execute_result"
    }
   ],
   "source": [
    "vocab = [\"<|endoftext|>\"] + alphabet.copy()\n",
    "vocab"
   ]
  },
  {
   "cell_type": "markdown",
   "metadata": {},
   "source": [
    "4. split each word into individual characters, to be able to start training"
   ]
  },
  {
   "cell_type": "code",
   "execution_count": 62,
   "metadata": {},
   "outputs": [
    {
     "data": {
      "text/plain": [
       "{'This': ['T', 'h', 'i', 's'],\n",
       " 'Ġis': ['Ġ', 'i', 's'],\n",
       " 'Ġthe': ['Ġ', 't', 'h', 'e'],\n",
       " 'ĠHugging': ['Ġ', 'H', 'u', 'g', 'g', 'i', 'n', 'g'],\n",
       " 'ĠFace': ['Ġ', 'F', 'a', 'c', 'e'],\n",
       " 'ĠCourse': ['Ġ', 'C', 'o', 'u', 'r', 's', 'e'],\n",
       " '.': ['.'],\n",
       " 'Ġchapter': ['Ġ', 'c', 'h', 'a', 'p', 't', 'e', 'r'],\n",
       " 'Ġabout': ['Ġ', 'a', 'b', 'o', 'u', 't'],\n",
       " 'Ġtokenization': ['Ġ',\n",
       "  't',\n",
       "  'o',\n",
       "  'k',\n",
       "  'e',\n",
       "  'n',\n",
       "  'i',\n",
       "  'z',\n",
       "  'a',\n",
       "  't',\n",
       "  'i',\n",
       "  'o',\n",
       "  'n'],\n",
       " 'Ġsection': ['Ġ', 's', 'e', 'c', 't', 'i', 'o', 'n'],\n",
       " 'Ġshows': ['Ġ', 's', 'h', 'o', 'w', 's'],\n",
       " 'Ġseveral': ['Ġ', 's', 'e', 'v', 'e', 'r', 'a', 'l'],\n",
       " 'Ġtokenizer': ['Ġ', 't', 'o', 'k', 'e', 'n', 'i', 'z', 'e', 'r'],\n",
       " 'Ġalgorithms': ['Ġ', 'a', 'l', 'g', 'o', 'r', 'i', 't', 'h', 'm', 's'],\n",
       " 'Hopefully': ['H', 'o', 'p', 'e', 'f', 'u', 'l', 'l', 'y'],\n",
       " ',': [','],\n",
       " 'Ġyou': ['Ġ', 'y', 'o', 'u'],\n",
       " 'Ġwill': ['Ġ', 'w', 'i', 'l', 'l'],\n",
       " 'Ġbe': ['Ġ', 'b', 'e'],\n",
       " 'Ġable': ['Ġ', 'a', 'b', 'l', 'e'],\n",
       " 'Ġto': ['Ġ', 't', 'o'],\n",
       " 'Ġunderstand': ['Ġ', 'u', 'n', 'd', 'e', 'r', 's', 't', 'a', 'n', 'd'],\n",
       " 'Ġhow': ['Ġ', 'h', 'o', 'w'],\n",
       " 'Ġthey': ['Ġ', 't', 'h', 'e', 'y'],\n",
       " 'Ġare': ['Ġ', 'a', 'r', 'e'],\n",
       " 'Ġtrained': ['Ġ', 't', 'r', 'a', 'i', 'n', 'e', 'd'],\n",
       " 'Ġand': ['Ġ', 'a', 'n', 'd'],\n",
       " 'Ġgenerate': ['Ġ', 'g', 'e', 'n', 'e', 'r', 'a', 't', 'e'],\n",
       " 'Ġtokens': ['Ġ', 't', 'o', 'k', 'e', 'n', 's']}"
      ]
     },
     "execution_count": 62,
     "metadata": {},
     "output_type": "execute_result"
    }
   ],
   "source": [
    "splits = {word: [c for c in word] for word in word_freqs.keys()}\n",
    "splits"
   ]
  },
  {
   "cell_type": "markdown",
   "metadata": {},
   "source": [
    "5. computes the frequency of each pair. We’ll need to use this at each step of the training"
   ]
  },
  {
   "cell_type": "code",
   "execution_count": 25,
   "metadata": {},
   "outputs": [],
   "source": [
    "def compute_pair_freqs(splits):\n",
    "    pair_freq = dict()\n",
    "    for word, freq in word_freqs.items():\n",
    "        split = splits[word]\n",
    "        if len(split) == 1:\n",
    "            continue\n",
    "        for i in range(len(split) - 1):\n",
    "            pair = (split[i], split[i+1])\n",
    "            if pair not in pair_freq:\n",
    "                pair_freq[pair] = freq\n",
    "            else:\n",
    "                pair_freq[pair] += freq\n",
    "    \n",
    "    return pair_freq\n"
   ]
  },
  {
   "cell_type": "code",
   "execution_count": 27,
   "metadata": {},
   "outputs": [
    {
     "name": "stdout",
     "output_type": "stream",
     "text": [
      "('T', 'h'): 3\n",
      "('h', 'i'): 3\n",
      "('i', 's'): 5\n",
      "('Ġ', 'i'): 2\n",
      "('Ġ', 't'): 7\n",
      "('t', 'h'): 3\n"
     ]
    }
   ],
   "source": [
    "pair_freqs = compute_pair_freqs(splits)\n",
    "pair_freqs\n",
    "\n",
    "for i, key in enumerate(pair_freqs.keys()):\n",
    "    print(f\"{key}: {pair_freqs[key]}\")\n",
    "    if i >= 5:\n",
    "        break"
   ]
  },
  {
   "cell_type": "code",
   "execution_count": 30,
   "metadata": {},
   "outputs": [
    {
     "data": {
      "text/plain": [
       "{('T', 'h'): 3,\n",
       " ('h', 'i'): 3,\n",
       " ('i', 's'): 5,\n",
       " ('Ġ', 'i'): 2,\n",
       " ('Ġ', 't'): 7,\n",
       " ('t', 'h'): 3,\n",
       " ('h', 'e'): 2,\n",
       " ('Ġ', 'H'): 1,\n",
       " ('H', 'u'): 1,\n",
       " ('u', 'g'): 1,\n",
       " ('g', 'g'): 1,\n",
       " ('g', 'i'): 1,\n",
       " ('i', 'n'): 2,\n",
       " ('n', 'g'): 1,\n",
       " ('Ġ', 'F'): 1,\n",
       " ('F', 'a'): 1,\n",
       " ('a', 'c'): 1,\n",
       " ('c', 'e'): 1,\n",
       " ('Ġ', 'C'): 1,\n",
       " ('C', 'o'): 1,\n",
       " ('o', 'u'): 3,\n",
       " ('u', 'r'): 1,\n",
       " ('r', 's'): 2,\n",
       " ('s', 'e'): 3,\n",
       " ('Ġ', 'c'): 1,\n",
       " ('c', 'h'): 1,\n",
       " ('h', 'a'): 1,\n",
       " ('a', 'p'): 1,\n",
       " ('p', 't'): 1,\n",
       " ('t', 'e'): 2,\n",
       " ('e', 'r'): 5,\n",
       " ('Ġ', 'a'): 5,\n",
       " ('a', 'b'): 2,\n",
       " ('b', 'o'): 1,\n",
       " ('u', 't'): 1,\n",
       " ('t', 'o'): 4,\n",
       " ('o', 'k'): 3,\n",
       " ('k', 'e'): 3,\n",
       " ('e', 'n'): 4,\n",
       " ('n', 'i'): 2,\n",
       " ('i', 'z'): 2,\n",
       " ('z', 'a'): 1,\n",
       " ('a', 't'): 2,\n",
       " ('t', 'i'): 2,\n",
       " ('i', 'o'): 2,\n",
       " ('o', 'n'): 2,\n",
       " ('Ġ', 's'): 3,\n",
       " ('e', 'c'): 1,\n",
       " ('c', 't'): 1,\n",
       " ('s', 'h'): 1,\n",
       " ('h', 'o'): 2,\n",
       " ('o', 'w'): 2,\n",
       " ('w', 's'): 1,\n",
       " ('e', 'v'): 1,\n",
       " ('v', 'e'): 1,\n",
       " ('r', 'a'): 3,\n",
       " ('a', 'l'): 2,\n",
       " ('z', 'e'): 1,\n",
       " ('l', 'g'): 1,\n",
       " ('g', 'o'): 1,\n",
       " ('o', 'r'): 1,\n",
       " ('r', 'i'): 1,\n",
       " ('i', 't'): 1,\n",
       " ('h', 'm'): 1,\n",
       " ('m', 's'): 1,\n",
       " ('H', 'o'): 1,\n",
       " ('o', 'p'): 1,\n",
       " ('p', 'e'): 1,\n",
       " ('e', 'f'): 1,\n",
       " ('f', 'u'): 1,\n",
       " ('u', 'l'): 1,\n",
       " ('l', 'l'): 2,\n",
       " ('l', 'y'): 1,\n",
       " ('Ġ', 'y'): 1,\n",
       " ('y', 'o'): 1,\n",
       " ('Ġ', 'w'): 1,\n",
       " ('w', 'i'): 1,\n",
       " ('i', 'l'): 1,\n",
       " ('Ġ', 'b'): 1,\n",
       " ('b', 'e'): 1,\n",
       " ('b', 'l'): 1,\n",
       " ('l', 'e'): 1,\n",
       " ('Ġ', 'u'): 1,\n",
       " ('u', 'n'): 1,\n",
       " ('n', 'd'): 3,\n",
       " ('d', 'e'): 1,\n",
       " ('s', 't'): 1,\n",
       " ('t', 'a'): 1,\n",
       " ('a', 'n'): 2,\n",
       " ('Ġ', 'h'): 1,\n",
       " ('e', 'y'): 1,\n",
       " ('a', 'r'): 1,\n",
       " ('r', 'e'): 1,\n",
       " ('t', 'r'): 1,\n",
       " ('a', 'i'): 1,\n",
       " ('n', 'e'): 2,\n",
       " ('e', 'd'): 1,\n",
       " ('Ġ', 'g'): 1,\n",
       " ('g', 'e'): 1,\n",
       " ('n', 's'): 1}"
      ]
     },
     "execution_count": 30,
     "metadata": {},
     "output_type": "execute_result"
    }
   ],
   "source": [
    "pair_freqs"
   ]
  },
  {
   "cell_type": "code",
   "execution_count": 15,
   "metadata": {},
   "outputs": [
    {
     "name": "stdout",
     "output_type": "stream",
     "text": [
      "('Ġ', 't') 7\n"
     ]
    }
   ],
   "source": [
    "best_pair = \"\"\n",
    "max_freq = None\n",
    "\n",
    "for pair, freq in pair_freqs.items():\n",
    "    if max_freq is None or max_freq < freq:\n",
    "        best_pair = pair\n",
    "        max_freq = freq\n",
    "\n",
    "print(best_pair, max_freq)"
   ]
  },
  {
   "cell_type": "markdown",
   "metadata": {},
   "source": [
    "So the first merge to learn is ('Ġ', 't') -> 'Ġt', and we add 'Ġt' to the vocabulary:"
   ]
  },
  {
   "cell_type": "code",
   "execution_count": 28,
   "metadata": {},
   "outputs": [],
   "source": [
    "merges = {(\"Ġ\", \"t\"): \"Ġt\"}\n",
    "vocab.append(\"Ġt\")"
   ]
  },
  {
   "cell_type": "code",
   "execution_count": 76,
   "metadata": {},
   "outputs": [],
   "source": [
    "def merge_pair(a, b, splits):\n",
    "\n",
    "    for words in splits.keys():\n",
    "        split = splits[words]\n",
    "        if len(split) == 1:\n",
    "            continue\n",
    "        \n",
    "        i = 0\n",
    "        while i < len(split)-1:\n",
    "            if split[i] == a and split[i+1] == b:\n",
    "                split = split[:i] + [a+b] + split[i+2:]\n",
    "            else:\n",
    "                i += 1\n",
    "            \n",
    "        splits[words] = split\n",
    "    \n",
    "    return splits        "
   ]
  },
  {
   "cell_type": "markdown",
   "metadata": {},
   "source": [
    "TEST!"
   ]
  },
  {
   "cell_type": "code",
   "execution_count": 77,
   "metadata": {},
   "outputs": [
    {
     "name": "stdout",
     "output_type": "stream",
     "text": [
      "['Ġt', 'r', 'a', 'in', 'e', 'd']\n"
     ]
    }
   ],
   "source": [
    "splits = merge_pair(\"Ġ\", \"t\", splits)\n",
    "print(splits[\"Ġtrained\"])"
   ]
  },
  {
   "cell_type": "markdown",
   "metadata": {},
   "source": [
    "Now we have everything we need to loop until we have learned all the merges we want. Let’s aim for a vocab size of 50:"
   ]
  },
  {
   "cell_type": "code",
   "execution_count": 75,
   "metadata": {},
   "outputs": [
    {
     "data": {
      "text/plain": [
       "['<|endoftext|>',\n",
       " ',',\n",
       " '.',\n",
       " 'C',\n",
       " 'F',\n",
       " 'H',\n",
       " 'T',\n",
       " 'a',\n",
       " 'b',\n",
       " 'c',\n",
       " 'd',\n",
       " 'e',\n",
       " 'f',\n",
       " 'g',\n",
       " 'h',\n",
       " 'i',\n",
       " 'k',\n",
       " 'l',\n",
       " 'm',\n",
       " 'n',\n",
       " 'o',\n",
       " 'p',\n",
       " 'r',\n",
       " 's',\n",
       " 't',\n",
       " 'u',\n",
       " 'v',\n",
       " 'w',\n",
       " 'y',\n",
       " 'z',\n",
       " 'Ġ',\n",
       " 'Ġt',\n",
       " 'er',\n",
       " 'Ġa',\n",
       " 'Ġto',\n",
       " 'en',\n",
       " 'Thi',\n",
       " 'This',\n",
       " 'ou',\n",
       " 'se',\n",
       " 'Ġtok',\n",
       " 'Ġtoken',\n",
       " 'nd',\n",
       " 'Ġi',\n",
       " 'Ġis',\n",
       " 'Ġth',\n",
       " 'Ġthe',\n",
       " 'in',\n",
       " 'Ġab',\n",
       " 'Ġtokeni']"
      ]
     },
     "execution_count": 75,
     "metadata": {},
     "output_type": "execute_result"
    }
   ],
   "source": [
    "vocab_size = 50\n",
    "while len(vocab) < vocab_size:\n",
    "    pair_freqs = compute_pair_freqs(splits)\n",
    "    best_pair = \"\"\n",
    "    max_freq = None\n",
    "    for pair, freq in pair_freqs.items():\n",
    "        if max_freq is None or max_freq < freq:\n",
    "            best_pair = pair\n",
    "            max_freq = freq\n",
    "        \n",
    "    splits = merge_pair (*best_pair, splits)\n",
    "    merges[best_pair] = best_pair[0] + best_pair[1]\n",
    "    vocab.append(best_pair[0] + best_pair[1])\n",
    "\n",
    "vocab\n"
   ]
  },
  {
   "cell_type": "code",
   "execution_count": 82,
   "metadata": {},
   "outputs": [
    {
     "data": {
      "text/plain": [
       "{('Ġ', 't'): 'Ġt',\n",
       " ('e', 'r'): 'er',\n",
       " ('Ġ', 'a'): 'Ġa',\n",
       " ('Ġt', 'o'): 'Ġto',\n",
       " ('e', 'n'): 'en',\n",
       " ('T', 'hi'): 'Thi',\n",
       " ('Thi', 's'): 'This',\n",
       " ('o', 'u'): 'ou',\n",
       " ('s', 'e'): 'se',\n",
       " ('Ġto', 'k'): 'Ġtok',\n",
       " ('Ġtok', 'en'): 'Ġtoken',\n",
       " ('n', 'd'): 'nd',\n",
       " ('Ġ', 'i'): 'Ġi',\n",
       " ('Ġi', 's'): 'Ġis',\n",
       " ('Ġt', 'h'): 'Ġth',\n",
       " ('Ġth', 'e'): 'Ġthe',\n",
       " ('i', 'n'): 'in',\n",
       " ('Ġa', 'b'): 'Ġab',\n",
       " ('Ġtoken', 'i'): 'Ġtokeni'}"
      ]
     },
     "execution_count": 82,
     "metadata": {},
     "output_type": "execute_result"
    }
   ],
   "source": [
    "merges"
   ]
  },
  {
   "cell_type": "markdown",
   "metadata": {},
   "source": [
    "To tokenize a new text, we pre-tokenize it, split it, then apply all the merge rules learned:"
   ]
  },
  {
   "cell_type": "code",
   "execution_count": 99,
   "metadata": {},
   "outputs": [],
   "source": [
    "def tokenize(text):\n",
    "    pre_tokenize_result = tokenizer._tokenizer.pre_tokenizer.pre_tokenize_str(text)\n",
    "    pre_tokenize_text = [word for word, offset in pre_tokenize_result]\n",
    "    splits = [[l for l in word] for word in pre_tokenize_text]\n",
    "    print(f\"{splits}\")\n",
    "    for pair, merge in merges.items():\n",
    "        for idx, split in enumerate(splits):\n",
    "            i = 0\n",
    "            while i < len(split) - 1:  #KHEILI KHAFAN BOOD :D.\n",
    "                                       # roo khodesh dare loop mizane \n",
    "                                       #moratrab avalin charachter ro ba badi\n",
    "                                       #check mikone bebine\n",
    "                                       #ke bebine toolanitarin kalameii ke bar asas\n",
    "                                       #merge rule mitoone besaze chiye. YAY!\n",
    "                                       #ALGORITHM KHOOBI BOOOOOD :D\n",
    "                if split[i] == pair[0] and split[i+1] == pair[1]:\n",
    "                    split = split[:i] + [merge] + split[i+2:]\n",
    "                    print(f\"{split= }\")\n",
    "                    print(i)\n",
    "                else:\n",
    "                    i += 1\n",
    "            splits[idx] = split\n",
    "    \n",
    "    return sum(splits, [])\n"
   ]
  },
  {
   "cell_type": "code",
   "execution_count": 81,
   "metadata": {},
   "outputs": [
    {
     "data": {
      "text/plain": [
       "['T', 'h', 'i', 's', 'Ġis', 'Ġ', 'n', 'o', 't', 'Ġa', 'Ġtoken', '.']"
      ]
     },
     "execution_count": 81,
     "metadata": {},
     "output_type": "execute_result"
    }
   ],
   "source": [
    "tokenize(\"This is not a token.\")"
   ]
  },
  {
   "cell_type": "code",
   "execution_count": 100,
   "metadata": {},
   "outputs": [
    {
     "name": "stdout",
     "output_type": "stream",
     "text": [
      "[['T', 'h', 'i', 's'], ['Ġ', 'i', 's'], ['Ġ', 'i', 's'], ['Ġ', 'i', 's'], ['.']]\n",
      "split= ['Ġi', 's']\n",
      "0\n",
      "split= ['Ġi', 's']\n",
      "0\n",
      "split= ['Ġi', 's']\n",
      "0\n",
      "split= ['Ġis']\n",
      "0\n",
      "split= ['Ġis']\n",
      "0\n",
      "split= ['Ġis']\n",
      "0\n"
     ]
    },
    {
     "data": {
      "text/plain": [
       "['T', 'h', 'i', 's', 'Ġis', 'Ġis', 'Ġis', '.']"
      ]
     },
     "execution_count": 100,
     "metadata": {},
     "output_type": "execute_result"
    }
   ],
   "source": [
    "tokenize(\"This is is is.\")"
   ]
  },
  {
   "cell_type": "code",
   "execution_count": null,
   "metadata": {},
   "outputs": [],
   "source": []
  }
 ],
 "metadata": {
  "kernelspec": {
   "display_name": "hugging_face",
   "language": "python",
   "name": "python3"
  },
  "language_info": {
   "codemirror_mode": {
    "name": "ipython",
    "version": 3
   },
   "file_extension": ".py",
   "mimetype": "text/x-python",
   "name": "python",
   "nbconvert_exporter": "python",
   "pygments_lexer": "ipython3",
   "version": "3.10.12"
  }
 },
 "nbformat": 4,
 "nbformat_minor": 2
}
