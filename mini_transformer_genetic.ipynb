{
  "nbformat": 4,
  "nbformat_minor": 0,
  "metadata": {
    "colab": {
      "provenance": [],
      "authorship_tag": "ABX9TyOObUCR+InPXbPcOBB92aDE",
      "include_colab_link": true
    },
    "kernelspec": {
      "name": "python3",
      "display_name": "Python 3"
    },
    "language_info": {
      "name": "python"
    }
  },
  "cells": [
    {
      "cell_type": "markdown",
      "metadata": {
        "id": "view-in-github",
        "colab_type": "text"
      },
      "source": [
        "<a href=\"https://colab.research.google.com/github/QinLab/LLM-for-genetics/blob/main/mini_transformer_genetic.ipynb\" target=\"_parent\"><img src=\"https://colab.research.google.com/assets/colab-badge.svg\" alt=\"Open In Colab\"/></a>"
      ]
    },
    {
      "cell_type": "code",
      "execution_count": 143,
      "metadata": {
        "id": "ModOU_RTur_S"
      },
      "outputs": [],
      "source": [
        "import pandas as pd\n",
        "df = pd.read_csv(\"/content/who_train_transformer.csv\")"
      ]
    },
    {
      "cell_type": "code",
      "source": [
        "len(df)"
      ],
      "metadata": {
        "colab": {
          "base_uri": "https://localhost:8080/"
        },
        "id": "TyqWkfub5aA3",
        "outputId": "7b5b0308-4aa0-494a-9df3-89013bd031fb"
      },
      "execution_count": 147,
      "outputs": [
        {
          "output_type": "execute_result",
          "data": {
            "text/plain": [
              "8556"
            ]
          },
          "metadata": {},
          "execution_count": 147
        }
      ]
    },
    {
      "cell_type": "code",
      "source": [
        "characters = ['-', 'a', 'c', 'g', 'i', 'n', 't']\n",
        "ntoi = {'-':0, 'a':1, 'c':2, 'g':3, 'i':4, 'n':5, 't': 6}\n",
        "iton = {0:'-', 1:'a', 2:'c', 3:'g', 4:'i', 5:'n', 6:'t'}\n",
        "encode = lambda s: [ntoi[c] for c in s] # encoder: take a string, output a list of integers\n",
        "decode = lambda l: ''.join([iton[i] for i in l]) # decoder: take a list of integers, output a string\n",
        "\n",
        "print(encode(\"accgg--\"))\n",
        "print(decode(encode(\"accgg--\")))"
      ],
      "metadata": {
        "colab": {
          "base_uri": "https://localhost:8080/"
        },
        "id": "oxVEPP3n54Z5",
        "outputId": "fd0ab0de-add0-4bca-9fa1-60a68e526f4f"
      },
      "execution_count": 144,
      "outputs": [
        {
          "output_type": "stream",
          "name": "stdout",
          "text": [
            "[1, 2, 2, 3, 3, 0, 0]\n",
            "accgg--\n"
          ]
        }
      ]
    },
    {
      "cell_type": "code",
      "source": [
        "k_mer = 6\n",
        "ix = encoded_length - k_mer\n",
        "\n",
        "all_seq_inputs = []\n",
        "all_seq_targets = []\n",
        "\n",
        "for seq_encode in x_data:\n",
        "    seq_input = torch.stack([seq_encode[t:t+k_mer] for t in range(ix)])\n",
        "    seq_target = torch.stack([seq_encode[t+1:t+k_mer+1] for t in range(ix)])\n",
        "\n",
        "    all_seq_inputs.append(seq_input)\n",
        "    all_seq_targets.append(seq_target)\n",
        "\n",
        "all_seq_inputs = torch.cat(all_seq_inputs, dim=0)\n",
        "all_seq_targets = torch.cat(all_seq_targets, dim=0)"
      ],
      "metadata": {
        "id": "zkkGmGGHJXES"
      },
      "execution_count": 145,
      "outputs": []
    },
    {
      "cell_type": "code",
      "source": [
        "len(all_seq_inputs), len(all_seq_targets)"
      ],
      "metadata": {
        "colab": {
          "base_uri": "https://localhost:8080/"
        },
        "id": "XzrVrsq5PWn2",
        "outputId": "d9c31299-4c89-4f86-d0a5-e61bea4da7f7"
      },
      "execution_count": 146,
      "outputs": [
        {
          "output_type": "execute_result",
          "data": {
            "text/plain": [
              "(2988500, 2988500)"
            ]
          },
          "metadata": {},
          "execution_count": 146
        }
      ]
    },
    {
      "cell_type": "code",
      "source": [
        "seq_input[18756], seq_target[18756]"
      ],
      "metadata": {
        "colab": {
          "base_uri": "https://localhost:8080/"
        },
        "id": "bpVrD3hGMyAC",
        "outputId": "34984bcf-d1d0-4162-ab58-8356d992f887"
      },
      "execution_count": 148,
      "outputs": [
        {
          "output_type": "execute_result",
          "data": {
            "text/plain": [
              "(tensor([6., 6., 6., 1., 6., 3.]), tensor([6., 6., 1., 6., 3., 1.]))"
            ]
          },
          "metadata": {},
          "execution_count": 148
        }
      ]
    },
    {
      "cell_type": "code",
      "source": [
        "n = int(0.9*len(all_seq_inputs))\n",
        "train_data = all_seq_inputs[:n]\n",
        "val_data = all_seq_inputs[n:]"
      ],
      "metadata": {
        "id": "c2XgGSAQVKtf"
      },
      "execution_count": 149,
      "outputs": []
    },
    {
      "cell_type": "code",
      "source": [
        "def get_batch(split):\n",
        "    # generate a small batch of data of inputs x and targets y\n",
        "    data = train_data if split == 'train' else val_data\n",
        "    ix = torch.randint(len(data)-1, (batch_size,))  # since in the line below, we have i+block_size, here we subtract block_size from len(data)\n",
        "    x = torch.stack([data[i] for i in ix])\n",
        "    y = torch.stack([data[i+1] for i in ix])\n",
        "    return x, y"
      ],
      "metadata": {
        "id": "gPh0sDOzVGBH"
      },
      "execution_count": 150,
      "outputs": []
    },
    {
      "cell_type": "code",
      "source": [
        "import torch\n",
        "import torch.nn as nn\n",
        "from torch.nn import functional as F\n",
        "\n",
        "# hyperparameters\n",
        "batch_size = 16 # how many independent sequences will we process in parallel?\n",
        "block_size = 32 # what is the maximum context length for predictions?\n",
        "max_iters = 5000\n",
        "eval_interval = 100\n",
        "learning_rate = 1e-3\n",
        "device = 'cuda' if torch.cuda.is_available() else 'cpu'\n",
        "eval_iters = 200\n",
        "n_embd = 64\n",
        "n_head = 4\n",
        "n_layer = 4\n",
        "dropout = 0.0\n",
        "# ------------\n",
        "\n",
        "@torch.no_grad()\n",
        "def estimate_loss():\n",
        "    out = {}\n",
        "    model.eval()\n",
        "    for split in ['train', 'val']:\n",
        "        losses = torch.zeros(eval_iters)\n",
        "        for k in range(eval_iters):\n",
        "            X, Y = get_batch(split)\n",
        "            logits, loss = model(X, Y)\n",
        "            losses[k] = loss.item()\n",
        "        out[split] = losses.mean()\n",
        "    model.train()\n",
        "    return out\n",
        "\n",
        "class Head(nn.Module):\n",
        "    \"\"\" one head of self-attention \"\"\"\n",
        "\n",
        "    def __init__(self, head_size):\n",
        "        super().__init__()\n",
        "        self.key = nn.Linear(n_embd, head_size, bias=False)\n",
        "        self.query = nn.Linear(n_embd, head_size, bias=False)\n",
        "        self.value = nn.Linear(n_embd, head_size, bias=False)\n",
        "        self.register_buffer('tril', torch.tril(torch.ones(block_size, block_size)))\n",
        "\n",
        "        self.dropout = nn.Dropout(dropout)\n",
        "\n",
        "    def forward(self, x):\n",
        "        B,T,C = x.shape\n",
        "        k = self.key(x)   # (B,T,C)\n",
        "        q = self.query(x) # (B,T,C)\n",
        "        # compute attention scores (\"affinities\")\n",
        "        wei = q @ k.transpose(-2,-1) * C**-0.5 # (B, T, C) @ (B, C, T) -> (B, T, T)\n",
        "        wei = wei.masked_fill(self.tril[:T, :T] == 0, float('-inf')) # (B, T, T)\n",
        "        wei = F.softmax(wei, dim=-1) # (B, T, T)\n",
        "        wei = self.dropout(wei)\n",
        "        # perform the weighted aggregation of the values\n",
        "        v = self.value(x) # (B,T,C)\n",
        "        out = wei @ v # (B, T, T) @ (B, T, C) -> (B, T, C)\n",
        "        return out\n",
        "\n",
        "class MultiHeadAttention(nn.Module):\n",
        "    \"\"\" multiple heads of self-attention in parallel \"\"\"\n",
        "\n",
        "    def __init__(self, num_heads, head_size):\n",
        "        super().__init__()\n",
        "        self.heads = nn.ModuleList([Head(head_size) for _ in range(num_heads)])\n",
        "        self.proj = nn.Linear(n_embd, n_embd)\n",
        "        self.dropout = nn.Dropout(dropout)\n",
        "\n",
        "    def forward(self, x):\n",
        "        out = torch.cat([h(x) for h in self.heads], dim=-1)\n",
        "        out = self.dropout(self.proj(out))\n",
        "        return out\n",
        "\n",
        "class FeedFoward(nn.Module):\n",
        "    \"\"\" a simple linear layer followed by a non-linearity \"\"\"\n",
        "\n",
        "    def __init__(self, n_embd):\n",
        "        super().__init__()\n",
        "        self.net = nn.Sequential(\n",
        "            nn.Linear(n_embd, 4 * n_embd),\n",
        "            nn.ReLU(),\n",
        "            nn.Linear(4 * n_embd, n_embd),\n",
        "            nn.Dropout(dropout),\n",
        "        )\n",
        "\n",
        "    def forward(self, x):\n",
        "        return self.net(x)\n",
        "\n",
        "class Block(nn.Module):\n",
        "    \"\"\" Transformer block: communication followed by computation \"\"\"\n",
        "\n",
        "    def __init__(self, n_embd, n_head):\n",
        "        # n_embd: embedding dimension, n_head: the number of heads we'd like\n",
        "        super().__init__()\n",
        "        head_size = n_embd // n_head\n",
        "        self.sa = MultiHeadAttention(n_head, head_size)\n",
        "        self.ffwd = FeedFoward(n_embd)\n",
        "        self.ln1 = nn.LayerNorm(n_embd)\n",
        "        self.ln2 = nn.LayerNorm(n_embd)\n",
        "\n",
        "    def forward(self, x):\n",
        "        x = x + self.sa(self.ln1(x))\n",
        "        x = x + self.ffwd(self.ln2(x))\n",
        "        return x\n",
        "\n",
        "# super simple bigram model\n",
        "class BigramLanguageModel(nn.Module):\n",
        "\n",
        "    def __init__(self):\n",
        "        super().__init__()\n",
        "        # each token directly reads off the logits for the next token from a lookup table\n",
        "        self.token_embedding_table = nn.Embedding(vocab_size, n_embd)\n",
        "        self.position_embedding_table = nn.Embedding(block_size, n_embd)\n",
        "        self.blocks = nn.Sequential(*[Block(n_embd, n_head=n_head) for _ in range(n_layer)])\n",
        "        self.ln_f = nn.LayerNorm(n_embd) # final layer norm\n",
        "        self.lm_head = nn.Linear(n_embd, vocab_size)\n",
        "\n",
        "    def forward(self, idx, targets=None):\n",
        "        B, T = idx.shape\n",
        "\n",
        "        # idx and targets are both (B,T) tensor of integers\n",
        "        tok_emb = self.token_embedding_table(idx) # (B,T,C)\n",
        "        pos_emb = self.position_embedding_table(torch.arange(T, device=device)) # (T,C)\n",
        "        x = tok_emb + pos_emb # (B,T,C)\n",
        "        x = self.blocks(x) # (B,T,C)\n",
        "        x = self.ln_f(x) # (B,T,C)\n",
        "        logits = self.lm_head(x) # (B,T,vocab_size)\n",
        "\n",
        "        if targets is None:\n",
        "            loss = None\n",
        "        else:\n",
        "            B, T, C = logits.shape\n",
        "            logits = logits.view(B*T, C)\n",
        "            targets = targets.view(B*T)\n",
        "            loss = F.cross_entropy(logits, targets)\n",
        "\n",
        "        return logits, loss\n",
        "\n",
        "    def generate(self, idx, max_new_tokens):\n",
        "        # idx is (B, T) array of indices in the current context\n",
        "        for _ in range(max_new_tokens):\n",
        "            # crop idx to the last block_size tokens\n",
        "            idx_cond = idx[:, -block_size:]\n",
        "            # get the predictions\n",
        "            logits, loss = self(idx_cond)\n",
        "            # focus only on the last time step\n",
        "            logits = logits[:, -1, :] # becomes (B, C)\n",
        "            # apply softmax to get probabilities\n",
        "            probs = F.softmax(logits, dim=-1) # (B, C)\n",
        "            # sample from the distribution\n",
        "            idx_next = torch.multinomial(probs, num_samples=1) # (B, 1)\n",
        "            # append sampled index to the running sequence\n",
        "            idx = torch.cat((idx, idx_next), dim=1) # (B, T+1)\n",
        "        return idx\n",
        "\n",
        "model = BigramLanguageModel()\n",
        "m = model.to(device)\n",
        "# print the number of parameters in the model\n",
        "print(sum(p.numel() for p in m.parameters())/1e6, 'M parameters')\n",
        "\n",
        "# create a PyTorch optimizer\n",
        "optimizer = torch.optim.AdamW(model.parameters(), lr=learning_rate)\n",
        "\n",
        "for iter in range(max_iters):\n",
        "\n",
        "    # every once in a while evaluate the loss on train and val sets\n",
        "    if iter % eval_interval == 0 or iter == max_iters - 1:\n",
        "        losses = estimate_loss()\n",
        "        print(f\"step {iter}: train loss {losses['train']:.4f}, val loss {losses['val']:.4f}\")\n",
        "\n",
        "    # sample a batch of data\n",
        "    xb, yb = get_batch('train')\n",
        "\n",
        "    # evaluate the loss\n",
        "    logits, loss = model(xb, yb)\n",
        "    optimizer.zero_grad(set_to_none=True)\n",
        "    loss.backward()\n",
        "    optimizer.step()\n",
        "\n",
        "# generate from the model\n",
        "context = torch.zeros((1, 1), dtype=torch.long, device=device)\n",
        "print(decode(m.generate(context, max_new_tokens=2000)[0].tolist()))\n"
      ],
      "metadata": {
        "colab": {
          "base_uri": "https://localhost:8080/"
        },
        "id": "JLCvbcKQXSZ5",
        "outputId": "5a4ee136-ec70-4391-daa0-3776cdeaf9a1"
      },
      "execution_count": 142,
      "outputs": [
        {
          "output_type": "stream",
          "name": "stdout",
          "text": [
            "0.202247 M parameters\n",
            "step 0: train loss 2.0106, val loss 2.0090\n",
            "step 100: train loss 1.3582, val loss 1.3731\n",
            "step 200: train loss 1.3409, val loss 1.3567\n",
            "step 300: train loss 1.3124, val loss 1.3235\n",
            "step 400: train loss 1.3156, val loss 1.3310\n",
            "step 500: train loss 1.3153, val loss 1.3343\n",
            "step 600: train loss 1.3068, val loss 1.3215\n",
            "step 700: train loss 1.3129, val loss 1.3233\n",
            "step 800: train loss 1.3198, val loss 1.3262\n",
            "step 900: train loss 1.3088, val loss 1.3262\n",
            "step 1000: train loss 1.3029, val loss 1.3231\n",
            "step 1100: train loss 1.3065, val loss 1.3260\n",
            "step 1200: train loss 1.3172, val loss 1.3233\n",
            "step 1300: train loss 1.3216, val loss 1.3337\n",
            "step 1400: train loss 1.3044, val loss 1.3197\n",
            "step 1500: train loss 1.3056, val loss 1.3199\n",
            "step 1600: train loss 1.3008, val loss 1.3160\n",
            "step 1700: train loss 1.3033, val loss 1.3169\n",
            "step 1800: train loss 1.3097, val loss 1.3167\n",
            "step 1900: train loss 1.3073, val loss 1.3207\n",
            "step 2000: train loss 1.3025, val loss 1.3225\n",
            "step 2100: train loss 1.3042, val loss 1.3264\n",
            "step 2200: train loss 1.3024, val loss 1.3262\n",
            "step 2300: train loss 1.3113, val loss 1.3189\n",
            "step 2400: train loss 1.3107, val loss 1.3231\n",
            "step 2500: train loss 1.3062, val loss 1.3313\n",
            "step 2600: train loss 1.3061, val loss 1.3196\n",
            "step 2700: train loss 1.2982, val loss 1.3185\n",
            "step 2800: train loss 1.2996, val loss 1.3204\n",
            "step 2900: train loss 1.3058, val loss 1.3183\n",
            "step 3000: train loss 1.3122, val loss 1.3272\n",
            "step 3100: train loss 1.3003, val loss 1.3180\n",
            "step 3200: train loss 1.2977, val loss 1.3191\n",
            "step 3300: train loss 1.3000, val loss 1.3203\n",
            "step 3400: train loss 1.3110, val loss 1.3200\n",
            "step 3500: train loss 1.3088, val loss 1.3187\n",
            "step 3600: train loss 1.3002, val loss 1.3160\n",
            "step 3700: train loss 1.3003, val loss 1.3238\n",
            "step 3800: train loss 1.3058, val loss 1.3091\n",
            "step 3900: train loss 1.2988, val loss 1.3202\n",
            "step 4000: train loss 1.3100, val loss 1.3228\n",
            "step 4100: train loss 1.2993, val loss 1.3164\n",
            "step 4200: train loss 1.3047, val loss 1.3236\n",
            "step 4300: train loss 1.3057, val loss 1.3174\n",
            "step 4400: train loss 1.3002, val loss 1.3199\n",
            "step 4500: train loss 1.3071, val loss 1.3109\n",
            "step 4600: train loss 1.3059, val loss 1.3143\n",
            "step 4700: train loss 1.3065, val loss 1.3192\n",
            "step 4800: train loss 1.3063, val loss 1.3085\n",
            "step 4900: train loss 1.3005, val loss 1.3178\n",
            "step 4999: train loss 1.3139, val loss 1.3188\n",
            "-------------------------------------------------------------------------------------------------------------------------------------------------------------------------------------------------------------------------------------------------------------------------------------------------------------------------------------------------------------------------------------------------------------------------------------------------------------------------------------tgagttgataaggcacagtgttggaagagcaaattaacaaactactacaacctttggctttttatcgttagatatctccttcntaaagttttgaggcacgctgttcattgcttactgatacgaaattgcttgatcaaaaaatctaggcaatgttccagaaccaaaacngagaaccatagnacgtacaacttttcaattttacccagaacactacttaacactcgctataagtaaacaccactgacttgataagattgatggaaactgtcaaaaatacatttatacaattaaccatcacttttccaacgatacttctggaaaggacttagaaactgatgtaccattttaacaactacatcctaatcattgttgtgtgggtacgctggatattgtccttatgctgtataaactgcagaccctatggaccttgaagtaagtgaaacataatacatcctgttacatcatcttctattgacactcatctaacatactcctatactgatggaaagcataaaaatctctgcatcaccattgcatgatgtataaattatagtgccaaacaggtacctgtatcaattctaatttgcccaaatgcttgctctcagttttctataaattgtgtgatgcctgtacgattaactgaactatcactctgctgtaacatcctaaaatgtctaaagcctcactcgggcctagtcgcttcgctgcatgaaactacaaacagataatatgtgagaacctttcgtcaatgccaatgacttcatacaacaattgcattagccatggaatgatattgaggttgctcaattttcatggacttttagaggccacagccttaacttagaacacaacggacagtgttgctatacatcgccataaaaagactaaaatgatttaccagaatgatcctggtcatttgtgtttctctgcataatgttttctacttcaaggcgacataaaatagtacctgtttatttggcattacaatatacccacgtaatggaaacgccagtcattcaattaattgaaactttcattactttctgcttaactagttccttgccntatgataagcattttgattacaattagatcttaaaaaggtgattgattttgaccagcactgtctcaattcctgctgctaacgatgtacatttgaaccagtttgctgtgttttcattaaaactcattgtgtagaaggagaatctaggacagatacaagaaagaatcaaaatagtaaaagtaggaagaggaagattgttttatgctccagtccccatagaaaccacattgttaagacctaggacgccatacattttatcacactgtgaatattaatgttggtgtggtgcacaaaaagtgcataaaaataaaatgctaagagaaagcaaaaaggtcagtcattaaaagtattaacctaggtagtaagatcctgaactttctatttactaacaatggctaatgagtaacgattgtagaaacagaatttgtgttaaaaaaccctttgaaatagctccagtagaaacaagcgt\n"
          ]
        }
      ]
    }
  ]
}